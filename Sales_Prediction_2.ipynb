{
 "cells": [
  {
   "cell_type": "code",
   "execution_count": 1,
   "id": "7791e9e5",
   "metadata": {},
   "outputs": [],
   "source": [
    "import pandas as pd\n",
    "from sklearn.model_selection import train_test_split\n",
    "from sklearn.ensemble import RandomForestRegressor\n",
    "from sklearn.metrics import mean_squared_error\n",
    "from sklearn.preprocessing import OneHotEncoder\n",
    "from sklearn.compose import ColumnTransformer\n",
    "from sklearn.pipeline import Pipeline"
   ]
  },
  {
   "cell_type": "code",
   "execution_count": 2,
   "id": "94f22ebf",
   "metadata": {},
   "outputs": [],
   "source": [
    "# Load the dataset\n",
    "data = pd.read_csv('train.csv')"
   ]
  },
  {
   "cell_type": "code",
   "execution_count": 3,
   "id": "d45e1567",
   "metadata": {},
   "outputs": [],
   "source": [
    "# Fill missing values\n",
    "data['Item_Weight'].fillna(data['Item_Weight'].mean(), inplace=True)\n",
    "data['Outlet_Size'].fillna(data['Outlet_Size'].mode()[0], inplace=True)"
   ]
  },
  {
   "cell_type": "code",
   "execution_count": 4,
   "id": "e46e8d2b",
   "metadata": {},
   "outputs": [],
   "source": [
    "# Features and target\n",
    "X = data.drop(columns=['Item_Outlet_Sales', 'Item_Identifier'])\n",
    "y = data['Item_Outlet_Sales']"
   ]
  },
  {
   "cell_type": "code",
   "execution_count": 5,
   "id": "342f90ff",
   "metadata": {},
   "outputs": [],
   "source": [
    "# Identify categorical and numerical columns\n",
    "categorical_cols = X.select_dtypes(include=['object']).columns\n",
    "numerical_cols = X.select_dtypes(exclude=['object']).columns"
   ]
  },
  {
   "cell_type": "code",
   "execution_count": 6,
   "id": "9e5a8b54",
   "metadata": {},
   "outputs": [],
   "source": [
    "# Preprocessing pipeline\n",
    "preprocessor = ColumnTransformer(\n",
    "    transformers=[('num', 'passthrough', numerical_cols),\n",
    "                  ('cat', OneHotEncoder(handle_unknown='ignore'), categorical_cols)])"
   ]
  },
  {
   "cell_type": "code",
   "execution_count": 7,
   "id": "9c098f92",
   "metadata": {},
   "outputs": [],
   "source": [
    "# Define the model pipeline\n",
    "model = Pipeline(steps=[('preprocessor', preprocessor),\n",
    "                        ('regressor', RandomForestRegressor(n_estimators=100, random_state=42))])"
   ]
  },
  {
   "cell_type": "code",
   "execution_count": 8,
   "id": "07bcf871",
   "metadata": {},
   "outputs": [],
   "source": [
    "# Split the data\n",
    "X_train, X_test, y_train, y_test = train_test_split(X, y, test_size=0.2, random_state=42)"
   ]
  },
  {
   "cell_type": "code",
   "execution_count": 9,
   "id": "81c3405c",
   "metadata": {},
   "outputs": [
    {
     "name": "stdout",
     "output_type": "stream",
     "text": [
      "Mean Squared Error: 1164985.3077165987\n"
     ]
    }
   ],
   "source": [
    "# Train the model\n",
    "model.fit(X_train, y_train)\n",
    "\n",
    "# Predict on test set\n",
    "y_pred = model.predict(X_test)\n",
    "\n",
    "# Evaluate the model\n",
    "mse = mean_squared_error(y_test, y_pred)\n",
    "print(f'Mean Squared Error: {mse}')"
   ]
  },
  {
   "cell_type": "code",
   "execution_count": 10,
   "id": "9c174042",
   "metadata": {},
   "outputs": [],
   "source": [
    "# Function to predict sales for a new product\n",
    "def predict_sales(item_weight, item_fat_content, item_visibility, item_type, item_mrp, outlet_identifier, outlet_establishment_year, outlet_size, outlet_location_type, outlet_type):\n",
    "    # Prepare the input data\n",
    "    input_data = pd.DataFrame({\n",
    "        'Item_Weight': [item_weight],\n",
    "        'Item_Fat_Content': [item_fat_content],\n",
    "        'Item_Visibility': [item_visibility],\n",
    "        'Item_Type': [item_type],\n",
    "        'Item_MRP': [item_mrp],\n",
    "        'Outlet_Identifier': [outlet_identifier],\n",
    "        'Outlet_Establishment_Year': [outlet_establishment_year],\n",
    "        'Outlet_Size': [outlet_size],\n",
    "        'Outlet_Location_Type': [outlet_location_type],\n",
    "        'Outlet_Type': [outlet_type]\n",
    "    })\n",
    "    \n",
    "    # Predict sales\n",
    "    prediction = model.predict(input_data)\n",
    "    return prediction[0]"
   ]
  },
  {
   "cell_type": "code",
   "execution_count": 11,
   "id": "ad2b80a8",
   "metadata": {},
   "outputs": [
    {
     "name": "stdout",
     "output_type": "stream",
     "text": [
      "Predicted Sales: 3965.018766000002\n"
     ]
    }
   ],
   "source": [
    "# Example input for prediction\n",
    "item_weight = 9.3\n",
    "item_fat_content = 'Low Fat'\n",
    "item_visibility = 0.016047\n",
    "item_type = 'Snack Foods'\n",
    "item_mrp = 249.8092\n",
    "outlet_identifier = 'OUT049'\n",
    "outlet_establishment_year = 1999\n",
    "outlet_size = 'Medium'\n",
    "outlet_location_type = 'Tier 1'\n",
    "outlet_type = 'Supermarket Type1'\n",
    "\n",
    "predicted_sales = predict_sales(item_weight, item_fat_content, item_visibility, item_type, item_mrp, outlet_identifier, outlet_establishment_year, outlet_size, outlet_location_type, outlet_type)\n",
    "print(f'Predicted Sales: {predicted_sales}')"
   ]
  },
  {
   "cell_type": "code",
   "execution_count": 12,
   "id": "33accd36",
   "metadata": {},
   "outputs": [
    {
     "name": "stdout",
     "output_type": "stream",
     "text": [
      "Enter the Item Weight: 20\n",
      "Enter the Item Fat Content (e.g., Low Fat, Regular): Regular\n",
      "Enter the Item Visibility: 0.1908\n",
      "Enter the Item Type (e.g., Snack Foods, Dairy): Other\n",
      "Enter the Item MRP: 245\n",
      "Enter the Outlet Identifier (e.g., OUT049): OUT048\n",
      "Enter the Outlet Establishment Year: 2001\n",
      "Enter the Outlet Size (e.g., Small, Medium, High): High\n",
      "Enter the Outlet Location Type (e.g., Tier 1, Tier 2, Tier 3): Tier 3\n",
      "Enter the Outlet Type (e.g., Supermarket Type1, Grocery Store): Supermarket Type3\n",
      "Predicted Sales: 4816.976445999997\n"
     ]
    }
   ],
   "source": [
    "#Taken20 Inputs from the User\n",
    "# Function to predict sales for a new product\n",
    "def predict_sales():\n",
    "    # Collect user input\n",
    "    item_weight = float(input(\"Enter the Item Weight: \"))\n",
    "    item_fat_content = input(\"Enter the Item Fat Content (e.g., Low Fat, Regular): \")\n",
    "    item_visibility = float(input(\"Enter the Item Visibility: \"))\n",
    "    item_type = input(\"Enter the Item Type (e.g., Snack Foods, Dairy): \")\n",
    "    item_mrp = float(input(\"Enter the Item MRP: \"))\n",
    "    outlet_identifier = input(\"Enter the Outlet Identifier (e.g., OUT049): \")\n",
    "    outlet_establishment_year = int(input(\"Enter the Outlet Establishment Year: \"))\n",
    "    outlet_size = input(\"Enter the Outlet Size (e.g., Small, Medium, High): \")\n",
    "    outlet_location_type = input(\"Enter the Outlet Location Type (e.g., Tier 1, Tier 2, Tier 3): \")\n",
    "    outlet_type = input(\"Enter the Outlet Type (e.g., Supermarket Type1, Grocery Store): \")\n",
    "    \n",
    "    # Prepare the input data\n",
    "    input_data = pd.DataFrame({\n",
    "        'Item_Weight': [item_weight],\n",
    "        'Item_Fat_Content': [item_fat_content],\n",
    "        'Item_Visibility': [item_visibility],\n",
    "        'Item_Type': [item_type],\n",
    "        'Item_MRP': [item_mrp],\n",
    "        'Outlet_Identifier': [outlet_identifier],\n",
    "        'Outlet_Establishment_Year': [outlet_establishment_year],\n",
    "        'Outlet_Size': [outlet_size],\n",
    "        'Outlet_Location_Type': [outlet_location_type],\n",
    "        'Outlet_Type': [outlet_type]\n",
    "    })\n",
    "    \n",
    "    # Predict sales\n",
    "    prediction = model.predict(input_data)\n",
    "    return prediction[0]\n",
    "\n",
    "# Example usage\n",
    "predicted_sales = predict_sales()\n",
    "print(f'Predicted Sales: {predicted_sales}')"
   ]
  },
  {
   "cell_type": "code",
   "execution_count": null,
   "id": "4a5c0d24",
   "metadata": {},
   "outputs": [],
   "source": []
  }
 ],
 "metadata": {
  "kernelspec": {
   "display_name": "Python 3 (ipykernel)",
   "language": "python",
   "name": "python3"
  },
  "language_info": {
   "codemirror_mode": {
    "name": "ipython",
    "version": 3
   },
   "file_extension": ".py",
   "mimetype": "text/x-python",
   "name": "python",
   "nbconvert_exporter": "python",
   "pygments_lexer": "ipython3",
   "version": "3.11.5"
  }
 },
 "nbformat": 4,
 "nbformat_minor": 5
}
